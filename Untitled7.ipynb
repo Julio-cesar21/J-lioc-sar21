{
  "nbformat": 4,
  "nbformat_minor": 0,
  "metadata": {
    "colab": {
      "provenance": [],
      "toc_visible": true,
      "authorship_tag": "ABX9TyO1ZTRSPALpzqjmseuq3knt",
      "include_colab_link": true
    },
    "kernelspec": {
      "name": "python3",
      "display_name": "Python 3"
    },
    "language_info": {
      "name": "python"
    }
  },
  "cells": [
    {
      "cell_type": "markdown",
      "metadata": {
        "id": "view-in-github",
        "colab_type": "text"
      },
      "source": [
        "<a href=\"https://colab.research.google.com/github/Julio-cesar21/J-lioc-sar21/blob/main/Untitled7.ipynb\" target=\"_parent\"><img src=\"https://colab.research.google.com/assets/colab-badge.svg\" alt=\"Open In Colab\"/></a>"
      ]
    },
    {
      "cell_type": "code",
      "execution_count": null,
      "metadata": {
        "colab": {
          "base_uri": "https://localhost:8080/"
        },
        "id": "ZUjhcIfaAdC9",
        "outputId": "b1447307-4290-474d-9b7b-0afdf5a516b5"
      },
      "outputs": [
        {
          "output_type": "stream",
          "name": "stdout",
          "text": [
            "Alunos-PLP Unifavip 2022.2\n"
          ]
        }
      ],
      "source": [
        "print('Alunos-PLP Unifavip 2022.2')"
      ]
    },
    {
      "cell_type": "code",
      "source": [
        "número = input('escolha um número qualquer')\n",
        "print(f'O número informado foi {número}')"
      ],
      "metadata": {
        "colab": {
          "base_uri": "https://localhost:8080/"
        },
        "id": "I_YFcei9BYAw",
        "outputId": "019aae64-bc13-4e1d-ea46-ad79ab0d1ffc"
      },
      "execution_count": null,
      "outputs": [
        {
          "output_type": "stream",
          "name": "stdout",
          "text": [
            "escolha um número qualquer12\n",
            "O número informado foi 12\n"
          ]
        }
      ]
    },
    {
      "cell_type": "code",
      "source": [
        "número1 = float(input(\"diga o primeiro número: \"))\n",
        "número2 = float(input(\"diga o segundo número: \"))\n",
        "soma = número1 + número2\n",
        "print(f'a soma de {número1} e {número2} é: {soma}')"
      ],
      "metadata": {
        "colab": {
          "base_uri": "https://localhost:8080/"
        },
        "id": "lHcVGKTJB4VU",
        "outputId": "5e3a2931-a653-45be-db4a-6f035920368a"
      },
      "execution_count": null,
      "outputs": [
        {
          "output_type": "stream",
          "name": "stdout",
          "text": [
            "diga o primeiro número: 15\n",
            "diga o segundo número: 12\n",
            "a soma de 15.0 e 12.0 é: 27.0\n"
          ]
        }
      ]
    },
    {
      "cell_type": "code",
      "source": [
        "nota1 = float(input('diga sua primeira nota: '))\n",
        "nota2 = float(input('diga a segunda: '))\n",
        "nota3 = float(input('a terceira: '))\n",
        "nota4 = float(input('e por último, a quarta nota: '))\n",
        "media = (nota1 + nota2 + nota3 + nota4) / 4\n",
        "print(f\"A média das notas é: {media}\")"
      ],
      "metadata": {
        "colab": {
          "base_uri": "https://localhost:8080/"
        },
        "id": "bG9HLNxpEorS",
        "outputId": "b86e5151-5ab1-425a-fdf7-57fafba45616"
      },
      "execution_count": null,
      "outputs": [
        {
          "output_type": "stream",
          "name": "stdout",
          "text": [
            "diga sua primeira nota: 8\n",
            "diga a segunda: 10\n",
            "a terceira: 9\n",
            "e por último, a quarta nota: 6\n",
            "A média das notas é: 8.25\n"
          ]
        }
      ]
    },
    {
      "cell_type": "code",
      "source": [
        "metros = float(input(\"digite o valor em metros: \"))\n",
        "cm = metros * 100\n",
        "print(f\"{metros} metros é igual a {cm} centímetros\")"
      ],
      "metadata": {
        "colab": {
          "base_uri": "https://localhost:8080/"
        },
        "id": "O5hJ4P0GD_ro",
        "outputId": "26b2544c-d3a8-46f9-dc8f-4d55d1de4cda"
      },
      "execution_count": null,
      "outputs": [
        {
          "output_type": "stream",
          "name": "stdout",
          "text": [
            "digite o valor em metros: 12\n",
            "12.0 metros é igual a 1200.0 centímetros\n"
          ]
        }
      ]
    },
    {
      "cell_type": "code",
      "metadata": {
        "colab": {
          "base_uri": "https://localhost:8080/"
        },
        "id": "CEIDlYETLcCo",
        "outputId": "de8dc0cf-45d4-4884-957a-72e9eb6bb04e"
      },
      "source": [
        "import math\n",
        "raio = float(input(\"Digite o raio do círculo: \"))\n",
        "area = math.pi * (raio ** 2)\n",
        "print(f\"A área do círculo com raio {raio} é: {area}\")"
      ],
      "execution_count": null,
      "outputs": [
        {
          "output_type": "stream",
          "name": "stdout",
          "text": [
            "Digite o raio do círculo: 12\n",
            "A área do círculo com raio 12.0 é: 452.3893421169302\n"
          ]
        }
      ]
    },
    {
      "cell_type": "code",
      "source": [
        "lado = float(input(\"Digite o tamanho do lado do quadrado: \"))\n",
        "area = lado ** 2\n",
        "dobro_area = area * 2\n",
        "print(f\"A área do quadrado com lado {lado} é: {area}\")\n",
        "print(f\"O dobro da área é: {dobro_area}\")"
      ],
      "metadata": {
        "colab": {
          "base_uri": "https://localhost:8080/"
        },
        "id": "Rdf1W9FzKd4K",
        "outputId": "036d0b5b-12fc-40c0-aeae-0368f4bd4099"
      },
      "execution_count": null,
      "outputs": [
        {
          "output_type": "stream",
          "name": "stdout",
          "text": [
            "Digite o tamanho do lado do quadrado: 8\n",
            "A área do quadrado com lado 8.0 é: 64.0\n",
            "O dobro da área é: 128.0\n"
          ]
        }
      ]
    },
    {
      "cell_type": "code",
      "source": [
        "valor_por_hora = float(input(\"Quanto você ganha por hora? \"))\n",
        "horas_trabalhadas = float(input(\"Quantas horas você trabalhou no mês? \"))\n",
        "salario_total = valor_por_hora * horas_trabalhadas\n",
        "print(f\"O seu salário total neste mês é: R${salario_total:.2f}\")"
      ],
      "metadata": {
        "colab": {
          "base_uri": "https://localhost:8080/"
        },
        "id": "PypsP3PjMxlv",
        "outputId": "a4d77ff2-4769-472a-c43e-535714aad762"
      },
      "execution_count": null,
      "outputs": [
        {
          "output_type": "stream",
          "name": "stdout",
          "text": [
            "Quanto você ganha por hora? 20\n",
            "Quantas horas você trabalhou no mês? 160\n",
            "O seu salário total neste mês é: R$3200.00\n"
          ]
        }
      ]
    },
    {
      "cell_type": "code",
      "source": [
        "fahrenheit = float(input(\"Digite a temperatura em graus Fahrenheit: \"))\n",
        "celsius = 5 * ((fahrenheit - 32) / 9)\n",
        "print(f\"{fahrenheit} graus Fahrenheit é igual a {celsius:.2f} graus Celsius\")"
      ],
      "metadata": {
        "colab": {
          "base_uri": "https://localhost:8080/"
        },
        "id": "lkNtT0YRNX92",
        "outputId": "01325ad3-ba9a-46e3-f5a9-c0f63881e853"
      },
      "execution_count": null,
      "outputs": [
        {
          "output_type": "stream",
          "name": "stdout",
          "text": [
            "Digite a temperatura em graus Fahrenheit: 1\n",
            "1.0 graus Fahrenheit é igual a -17.22 graus Celsius\n"
          ]
        }
      ]
    },
    {
      "cell_type": "code",
      "source": [
        "celsius = float(input(\"Digite a temperatura em graus celsius: \"))\n",
        "fahrenheit = 9 / 5 * ((celsius + 32))\n",
        "print(f\"{celsius} graus Celsius é igual a {fahrenheit:.}\")"
      ],
      "metadata": {
        "id": "Gw4vOXZ6OVKZ",
        "colab": {
          "base_uri": "https://localhost:8080/"
        },
        "outputId": "b50e7e8a-6ee2-4e8c-d688-584cf067d98c"
      },
      "execution_count": null,
      "outputs": [
        {
          "output_type": "stream",
          "name": "stdout",
          "text": [
            "Digite a temperatura em graus celsius: 20\n",
            "20.0 graus Celsius é igual a 68.00 graus Fahrenheit\n"
          ]
        }
      ]
    },
    {
      "cell_type": "code",
      "source": [
        "num1_int = int(input(\"Digite o primeiro número inteiro: \"))\n",
        "num2_int = int(input(\"Digite o segundo número inteiro: \"))\n",
        "num3_real = float(input(\"Digite o número real: \"))\n",
        "produto = (2 * num1_int) * (num2_int / 2)\n",
        "print(f\"O produto do dobro do primeiro com metade do segundo é: {produto}\")\n",
        "soma = (3 * num1_int) + num3_real\n",
        "print(f\"A soma do triplo do primeiro com o terceiro é: {soma}\")\n",
        "cubo = num3_real ** 3\n",
        "print(f\"O terceiro número elevado ao cubo é: {cubo}\")"
      ],
      "metadata": {
        "colab": {
          "base_uri": "https://localhost:8080/"
        },
        "id": "V6PcguKtoHh1",
        "outputId": "e460fbbd-ef8a-4e89-dc65-ae871a50662a"
      },
      "execution_count": null,
      "outputs": [
        {
          "output_type": "stream",
          "name": "stdout",
          "text": [
            "Digite o primeiro número inteiro: 1\n",
            "Digite o segundo número inteiro: 3\n",
            "Digite o número real: 22\n",
            "O produto do dobro do primeiro com metade do segundo é: 3.0\n",
            "A soma do triplo do primeiro com o terceiro é: 25.0\n",
            "O terceiro número elevado ao cubo é: 10648.0\n"
          ]
        }
      ]
    },
    {
      "cell_type": "code",
      "source": [
        "altura = float(input(\"Digite a altura da pessoa em metros: \"))\n",
        "peso_ideal = (72.7 * altura) - 58\n",
        "print(f\"Para uma altura de {altura:.2f} metros, o peso ideal é: {peso_ideal:.2f} kg\")"
      ],
      "metadata": {
        "colab": {
          "base_uri": "https://localhost:8080/"
        },
        "id": "_PxcTZIRpTp4",
        "outputId": "d961e8aa-f6ae-4081-c2d5-f21d00fbe5cb"
      },
      "execution_count": null,
      "outputs": [
        {
          "output_type": "stream",
          "name": "stdout",
          "text": [
            "Digite a altura da pessoa em metros: 1.80\n",
            "Para uma altura de 1.80 metros, o peso ideal é: 72.86 kg\n"
          ]
        }
      ]
    },
    {
      "cell_type": "code",
      "source": [
        "altura = float(input(\"Digite a altura da pessoa em metros: \"))\n",
        "sexo = input(\"Digite o sexo (M para masculino, F para feminino): \").upper()\n",
        "if sexo == 'M':\n",
        "    peso_ideal = (72.7 * altura) - 58\n",
        "    print(f\"Para um homem com altura de {altura:.2f} metros, o peso ideal é: {peso_ideal:.2f} kg\")\n",
        "elif sexo == 'F':\n",
        "    peso_ideal = (62.1 * altura) - 44.7\n",
        "    print(f\"Para uma mulher com altura de {altura:.2f} metros, o peso ideal é: {peso_ideal:.2f} kg\")\n",
        "else:\n",
        "    print(\"Sexo inválido. Por favor, digite M para masculino ou F para feminino.\")"
      ],
      "metadata": {
        "colab": {
          "base_uri": "https://localhost:8080/"
        },
        "id": "-0kKQNEOrL3u",
        "outputId": "484f8d82-7101-421f-e789-76ed1c991144"
      },
      "execution_count": null,
      "outputs": [
        {
          "output_type": "stream",
          "name": "stdout",
          "text": [
            "Digite a altura da pessoa em metros: 1.90\n",
            "Digite o sexo (M para masculino, F para feminino): m\n",
            "Para um homem com altura de 1.90 metros, o peso ideal é: 80.13 kg\n"
          ]
        }
      ]
    },
    {
      "cell_type": "code",
      "source": [
        "peso = float(input(\"Digite o peso total de peixes (em quilos): \"))\n",
        "limite = 50\n",
        "excesso = 0\n",
        "multa = 0\n",
        "if peso > limite:\n",
        "    excesso = peso - limite\n",
        "    multa = excesso * 4.00\n",
        "    print(f\"Peso excedente: {excesso:.2f} kg\")\n",
        "    print(f\"Valor da multa a pagar: R${multa:.2f}\")\n",
        "else:\n",
        "    print(\"Peso dentro do limite estabelecido.\")"
      ],
      "metadata": {
        "colab": {
          "base_uri": "https://localhost:8080/"
        },
        "id": "RV9GMys6Jmoh",
        "outputId": "f500eabd-3dbf-4c96-ba2c-9586d72a0a3c"
      },
      "execution_count": null,
      "outputs": [
        {
          "output_type": "stream",
          "name": "stdout",
          "text": [
            "Digite o peso total de peixes (em quilos): 51\n",
            "Peso excedente: 1.00 kg\n",
            "Valor da multa a pagar: R$4.00\n"
          ]
        }
      ]
    },
    {
      "cell_type": "code",
      "metadata": {
        "id": "a243b76e"
      },
      "source": [
        "valor_por_hora = float(input(\"Quanto você ganha por hora? \"))\n",
        "horas_trabalhadas = float(input(\"Quantas horas você trabalhou no mês? \"))"
      ],
      "execution_count": null,
      "outputs": []
    },
    {
      "cell_type": "code",
      "source": [
        "area = float(input(\"Digite o tamanho da área a ser pintada em metros quadrados: \"))\n",
        "cobertura_por_litro = 3\n",
        "capacidade_lata = 18\n",
        "preco_lata = 80.00\n",
        "litros_necessarios = area / cobertura_por_litro\n",
        "latas_necessarias = (litros_necessarios / capacidade_lata)\n",
        "import math\n",
        "latas_comprar = math.ceil(latas_necessarias)\n",
        "preco_total = latas_comprar * preco_lata\n",
        "print(f\"Para pintar uma área de {area:.2f} m², você precisará de:\")\n",
        "print(f\"- {latas_comprar} lata(s) de tinta\")\n",
        "print(f\"- O preço total será de R${preco_total:.2f}\")"
      ],
      "metadata": {
        "id": "46Mj3juq7O7x"
      },
      "execution_count": null,
      "outputs": []
    },
    {
      "cell_type": "code",
      "metadata": {
        "colab": {
          "base_uri": "https://localhost:8080/"
        },
        "id": "88eac622",
        "outputId": "82b006e6-200d-4006-b497-4288989f7a36"
      },
      "source": [
        "area_a_pintar = float(input(\"Digite o tamanho da área a ser pintada em metros quadrados: \"))\n",
        "cobertura_por_litro = 6\n",
        "folga = 0.1\n",
        "litros_base = area_a_pintar / cobertura_por_litro\n",
        "litros_totais = litros_base * (1 + folga)\n",
        "print(f\"Quantidade total de litros necessários (com folga de 10%): {litros_totais:.2f} litros\")\n",
        "\n",
        "print(f\"Opção 1: Apenas latas de 18 litros\")\n",
        "capacidade_lata = 18\n",
        "preco_lata = 80.00\n",
        "litros_necessarios_latas = litros_totais\n",
        "latas_necessarias_exato = litros_necessarios_latas / capacidade_lata\n",
        "import math\n",
        "latas_comprar = math.ceil(latas_necessarias_exato)\n",
        "print(f\"- Quantidade de latas a comprar: {latas_comprar}\")\n",
        "print(f\"- Preço total: R${preco_total_latas:.2f}\")\n",
        "\n",
        "capacidade_galao = 3.6\n",
        "preco_galao = 25.00\n",
        "galoes_necessarios_exato = litros_totais / capacidade_galao\n",
        "galoes_comprar = math.ceil(galoes_necessarios_exato)\n",
        "preco_total_galoes = galoes_comprar * preco_galao\n",
        "print(f\"\\nOpção 2: Apenas galões de 3,6 litros\")\n",
        "print(f\"- Quantidade de galões a comprar: {galoes_comprar}\")\n",
        "print(f\"- Preço total: R${preco_total_galoes:.2f}\")\n",
        "num_latas_misto = int(litros_totais / capacidade_lata)\n",
        "litros_restantes = litros_totais - (num_latas_misto * capacidade_lata)\n",
        "num_galoes_misto = math.ceil(litros_restantes / capacidade_galao)\n",
        "preco_total_misto = (num_latas_misto * preco_lata) + (num_galoes_misto * preco_galao)\n",
        "print(f\"\\nOpção 3: Mistura de latas e galões (para minimizar desperdício e custo)\")\n",
        "print(f\"- Quantidade de latas a comprar: {num_latas_misto}\")\n",
        "print(f\"- Quantidade de galões a comprar: {num_galoes_misto}\")\n",
        "print(f\"- Preço total: R${preco_total_misto:.2f}\")\n",
        "print(\"\\n--- Resultados das Opções de Compra ---\")\n",
        "print(f\"\\nOpção 1: Apenas latas de 18 litros\")\n",
        "print(f\"- Quantidade de latas a comprar: {latas_comprar}\")\n",
        "print(f\"- Preço total: R${preco_total_latas:.2f}\")\n",
        "print(f\"\\nOpção 2: Apenas galões de 3,6 litros\")\n",
        "print(f\"- Quantidade de galões a comprar: {galoes_comprar}\")\n",
        "print(f\"- Preço total: R${preco_total_galoes:.2f}\")\n",
        "print(f\"\\nOpção 3: Mistura de latas e galões (para minimizar desperdício e custo)\")\n",
        "print(f\"- Quantidade de latas a comprar: {num_latas_misto}\")\n",
        "print(f\"- Quantidade de galões a comprar: {num_galoes_misto}\")\n",
        "print(f\"- Preço total: R${preco_total_misto:.2f}\")"
      ],
      "execution_count": null,
      "outputs": [
        {
          "output_type": "stream",
          "name": "stdout",
          "text": [
            "Digite o tamanho da área a ser pintada em metros quadrados: 25\n",
            "Quantidade total de litros necessários (com folga de 10%): 4.58 litros\n",
            "Opção 1: Apenas latas de 18 litros\n",
            "- Quantidade de latas a comprar: 1\n",
            "- Preço total: R$80.00\n",
            "\n",
            "Opção 2: Apenas galões de 3,6 litros\n",
            "- Quantidade de galões a comprar: 2\n",
            "- Preço total: R$50.00\n",
            "\n",
            "Opção 3: Mistura de latas e galões (para minimizar desperdício e custo)\n",
            "- Quantidade de latas a comprar: 0\n",
            "- Quantidade de galões a comprar: 2\n",
            "- Preço total: R$50.00\n",
            "\n",
            "--- Resultados das Opções de Compra ---\n",
            "\n",
            "Opção 1: Apenas latas de 18 litros\n",
            "- Quantidade de latas a comprar: 1\n",
            "- Preço total: R$80.00\n",
            "\n",
            "Opção 2: Apenas galões de 3,6 litros\n",
            "- Quantidade de galões a comprar: 2\n",
            "- Preço total: R$50.00\n",
            "\n",
            "Opção 3: Mistura de latas e galões (para minimizar desperdício e custo)\n",
            "- Quantidade de latas a comprar: 0\n",
            "- Quantidade de galões a comprar: 2\n",
            "- Preço total: R$50.00\n"
          ]
        }
      ]
    },
    {
      "cell_type": "code",
      "source": [
        "tamanho_mb = float(input(\"Digite o tamanho do arquivo para download (em MB): \"))\n",
        "velocidade_mbps = float(input(\"Digite a velocidade do link de Internet (em Mbps): \"))\n",
        "tamanho_bits = tamanho_mb * 8\n",
        "velocidade_bps = velocidade_mbps * 1_000_000\n",
        "tempo_segundos = tamanho_bits / velocidade_bps\n",
        "tempo_minutos = tempo_segundos / 60\n",
        "print(f\"\\nTempo aproximado de download: {tempo_minutos:.2f} minutos\")"
      ],
      "metadata": {
        "id": "xJtXfkQz9DZX",
        "colab": {
          "base_uri": "https://localhost:8080/"
        },
        "outputId": "c1a6d6dc-2dbf-417c-fb19-a01a6aa92ff3"
      },
      "execution_count": 4,
      "outputs": [
        {
          "output_type": "stream",
          "name": "stdout",
          "text": [
            "Digite o tamanho do arquivo para download (em MB): 600\n",
            "Digite a velocidade do link de Internet (em Mbps): 20\n",
            "\n",
            "Tempo aproximado de download: 0.00 minutos\n"
          ]
        }
      ]
    },
    {
      "cell_type": "code",
      "source": [
        "\n",
        "vetor = []\n",
        "quantidade_elementos = int(input(\"Digite quantos números inteiros deseja adicionar ao vetor: \"))\n",
        "for i in range(quantidade_elementos):\n",
        "  while True:\n",
        "    try:\n",
        "      numero = int(input(f\"Digite o {i+1}º número inteiro: \"))\n",
        "      vetor.append(numero)\n",
        "      break\n",
        "    except ValueError:\n",
        "      print(\"Entrada inválida. Por favor, digite um número inteiro.\")\n",
        "print(f\"\\nVetor preenchido: {vetor}\")\n",
        "while True:\n",
        "  try:\n",
        "    numero_pesquisa = int(input(\"\\nDigite um número inteiro para pesquisar no vetor: \"))\n",
        "    break\n",
        "  except ValueError:\n",
        "    print(\"Entrada inválida. Por favor, digite um número inteiro.\")\n",
        "if numero_pesquisa in vetor:\n",
        "  posicao = vetor.index(numero_pesquisa)\n",
        "  print(f\"O número {numero_pesquisa} existe no vetor e foi digitado na posição: {posicao}\")\n",
        "else:\n",
        "  print(f\"O número {numero_pesquisa} não existe no vetor.\")"
      ],
      "metadata": {
        "id": "0_f_DhBf9Tlw",
        "colab": {
          "base_uri": "https://localhost:8080/"
        },
        "outputId": "8d5dfc7e-4123-4c6e-b8dc-94a0a208a3c4"
      },
      "execution_count": 5,
      "outputs": [
        {
          "output_type": "stream",
          "name": "stdout",
          "text": [
            "Digite quantos números inteiros deseja adicionar ao vetor: 6\n",
            "Digite o 1º número inteiro: 2\n",
            "Digite o 2º número inteiro: 7\n",
            "Digite o 3º número inteiro: 9\n",
            "Digite o 4º número inteiro: 4\n",
            "Digite o 5º número inteiro: 8\n",
            "Digite o 6º número inteiro: 9\n",
            "\n",
            "Vetor preenchido: [2, 7, 9, 4, 8, 9]\n",
            "\n",
            "Digite um número inteiro para pesquisar no vetor: 2\n",
            "O número 2 existe no vetor e foi digitado na posição: 0\n"
          ]
        }
      ]
    }
  ]
}